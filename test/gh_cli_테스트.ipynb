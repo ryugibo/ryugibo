{
  "nbformat": 4,
  "nbformat_minor": 0,
  "metadata": {
    "colab": {
      "provenance": [],
      "authorship_tag": "ABX9TyNCPQ2bnrnx827FCffX+Big",
      "include_colab_link": true
    },
    "kernelspec": {
      "name": "python3",
      "display_name": "Python 3"
    },
    "language_info": {
      "name": "python"
    }
  },
  "cells": [
    {
      "cell_type": "markdown",
      "metadata": {
        "id": "view-in-github",
        "colab_type": "text"
      },
      "source": [
        "<a href=\"https://colab.research.google.com/github/ryugibo/ryugibo/blob/main/test/gh_cli_%ED%85%8C%EC%8A%A4%ED%8A%B8.ipynb\" target=\"_parent\"><img src=\"https://colab.research.google.com/assets/colab-badge.svg\" alt=\"Open In Colab\"/></a>"
      ]
    },
    {
      "cell_type": "code",
      "source": [
        "release = False # @param {type:\"boolean\"}\n",
        "raw_token = \"asd\" # @param {type: \"string\"}\n",
        "token_path = \"asdas\" # @param {type:\"string\"}\n",
        "\n",
        "assert token_path"
      ],
      "metadata": {
        "colab": {
          "base_uri": "https://localhost:8080/",
          "height": 184
        },
        "id": "kadn6GDklaRR",
        "outputId": "cbef5c1b-d04a-4c87-a692-4a7058323e21"
      },
      "execution_count": null,
      "outputs": [
        {
          "output_type": "error",
          "ename": "AssertionError",
          "evalue": "",
          "traceback": [
            "\u001b[0;31m---------------------------------------------------------------------------\u001b[0m",
            "\u001b[0;31mAssertionError\u001b[0m                            Traceback (most recent call last)",
            "\u001b[0;32m<ipython-input-34-b5d81c38c3f4>\u001b[0m in \u001b[0;36m<cell line: 3>\u001b[0;34m()\u001b[0m\n\u001b[1;32m      1\u001b[0m \u001b[0mtoken_path\u001b[0m \u001b[0;34m=\u001b[0m \u001b[0;34m\"\"\u001b[0m \u001b[0;31m# @param {type:\"string\"}\u001b[0m\u001b[0;34m\u001b[0m\u001b[0;34m\u001b[0m\u001b[0m\n\u001b[1;32m      2\u001b[0m \u001b[0;34m\u001b[0m\u001b[0m\n\u001b[0;32m----> 3\u001b[0;31m \u001b[0;32massert\u001b[0m \u001b[0mtoken_path\u001b[0m\u001b[0;34m\u001b[0m\u001b[0;34m\u001b[0m\u001b[0m\n\u001b[0m",
            "\u001b[0;31mAssertionError\u001b[0m: "
          ]
        }
      ]
    },
    {
      "cell_type": "code",
      "execution_count": null,
      "metadata": {
        "colab": {
          "base_uri": "https://localhost:8080/"
        },
        "id": "k9wiqV7QVxtI",
        "outputId": "f3618297-4532-44e4-ff6c-2ba2ebc6bbd9"
      },
      "outputs": [
        {
          "output_type": "stream",
          "name": "stdout",
          "text": [
            "\u001b[33m\r0% [Working]\u001b[0m\r            \rGet:1 https://cloud.r-project.org/bin/linux/ubuntu jammy-cran40/ InRelease [3,626 B]\n",
            "\u001b[33m\r0% [Connecting to archive.ubuntu.com] [Connecting to security.ubuntu.com (91.18\u001b[0m\u001b[33m\r0% [Connecting to archive.ubuntu.com] [Connecting to security.ubuntu.com (91.18\u001b[0m\r                                                                               \rHit:2 https://developer.download.nvidia.com/compute/cuda/repos/ubuntu2204/x86_64  InRelease\n",
            "Get:3 https://cli.github.com/packages stable InRelease [3,917 B]\n",
            "Get:4 http://security.ubuntu.com/ubuntu jammy-security InRelease [110 kB]\n",
            "Get:5 https://cli.github.com/packages stable/main amd64 Packages [346 B]\n",
            "Hit:6 http://archive.ubuntu.com/ubuntu jammy InRelease\n",
            "Get:7 http://archive.ubuntu.com/ubuntu jammy-updates InRelease [119 kB]\n",
            "Hit:8 https://ppa.launchpadcontent.net/c2d4u.team/c2d4u4.0+/ubuntu jammy InRelease\n",
            "Get:9 http://security.ubuntu.com/ubuntu jammy-security/universe amd64 Packages [1,081 kB]\n",
            "Get:10 https://ppa.launchpadcontent.net/deadsnakes/ppa/ubuntu jammy InRelease [18.1 kB]\n",
            "Hit:11 https://ppa.launchpadcontent.net/graphics-drivers/ppa/ubuntu jammy InRelease\n",
            "Hit:12 http://archive.ubuntu.com/ubuntu jammy-backports InRelease\n",
            "Hit:13 https://ppa.launchpadcontent.net/ubuntugis/ppa/ubuntu jammy InRelease\n",
            "Get:14 http://archive.ubuntu.com/ubuntu jammy-updates/multiverse amd64 Packages [61.2 kB]\n",
            "Get:15 http://archive.ubuntu.com/ubuntu jammy-updates/restricted amd64 Packages [2,107 kB]\n",
            "Get:16 https://ppa.launchpadcontent.net/deadsnakes/ppa/ubuntu jammy/main amd64 Packages [27.7 kB]\n",
            "Get:17 http://security.ubuntu.com/ubuntu jammy-security/main amd64 Packages [1,641 kB]\n",
            "Get:18 http://archive.ubuntu.com/ubuntu jammy-updates/main amd64 Packages [1,920 kB]\n",
            "Get:19 http://archive.ubuntu.com/ubuntu jammy-updates/universe amd64 Packages [1,357 kB]\n",
            "Fetched 8,451 kB in 3s (2,493 kB/s)\n",
            "Reading package lists... Done\n",
            "Building dependency tree... Done\n",
            "Reading state information... Done\n",
            "45 packages can be upgraded. Run 'apt list --upgradable' to see them.\n",
            "Reading package lists... Done\n",
            "Building dependency tree... Done\n",
            "Reading state information... Done\n",
            "The following NEW packages will be installed:\n",
            "  gh\n",
            "0 upgraded, 1 newly installed, 0 to remove and 45 not upgraded.\n",
            "Need to get 13.5 MB of archives.\n",
            "After this operation, 49.4 MB of additional disk space will be used.\n",
            "Get:1 https://cli.github.com/packages stable/main amd64 gh amd64 2.47.0 [13.5 MB]\n",
            "Fetched 13.5 MB in 1s (23.8 MB/s)\n",
            "debconf: unable to initialize frontend: Dialog\n",
            "debconf: (No usable dialog-like program is installed, so the dialog based frontend cannot be used. at /usr/share/perl5/Debconf/FrontEnd/Dialog.pm line 78, <> line 1.)\n",
            "debconf: falling back to frontend: Readline\n",
            "debconf: unable to initialize frontend: Readline\n",
            "debconf: (This frontend requires a controlling tty.)\n",
            "debconf: falling back to frontend: Teletype\n",
            "dpkg-preconfigure: unable to re-open stdin: \n",
            "Selecting previously unselected package gh.\n",
            "(Reading database ... 121753 files and directories currently installed.)\n",
            "Preparing to unpack .../archives/gh_2.47.0_amd64.deb ...\n",
            "Unpacking gh (2.47.0) ...\n",
            "Setting up gh (2.47.0) ...\n",
            "Processing triggers for man-db (2.10.2-1) ...\n"
          ]
        }
      ],
      "source": [
        "!sudo mkdir -p -m 755 /etc/apt/keyrings && wget -qO- https://cli.github.com/packages/githubcli-archive-keyring.gpg | sudo tee /etc/apt/keyrings/githubcli-archive-keyring.gpg > /dev/null \\\n",
        "&& sudo chmod go+r /etc/apt/keyrings/githubcli-archive-keyring.gpg \\\n",
        "&& echo \"deb [arch=$(dpkg --print-architecture) signed-by=/etc/apt/keyrings/githubcli-archive-keyring.gpg] https://cli.github.com/packages stable main\" | sudo tee /etc/apt/sources.list.d/github-cli.list > /dev/null \\\n",
        "&& sudo apt update \\\n",
        "&& sudo apt install gh -y"
      ]
    },
    {
      "cell_type": "markdown",
      "source": [],
      "metadata": {
        "id": "Owp3Q5RiW77i"
      }
    },
    {
      "cell_type": "code",
      "source": [
        "!gh version"
      ],
      "metadata": {
        "colab": {
          "base_uri": "https://localhost:8080/"
        },
        "id": "pXVNC1fMWwRf",
        "outputId": "28be9682-fd0f-495f-af70-18bb7fcd5a11"
      },
      "execution_count": null,
      "outputs": [
        {
          "output_type": "stream",
          "name": "stdout",
          "text": [
            "gh version 2.47.0 (2024-04-03)\n",
            "https://github.com/cli/cli/releases/tag/v2.47.0\n"
          ]
        }
      ]
    },
    {
      "cell_type": "code",
      "source": [
        "!gh auth"
      ],
      "metadata": {
        "colab": {
          "base_uri": "https://localhost:8080/"
        },
        "id": "bjsBLtaUY0JQ",
        "outputId": "9bf41633-efc8-45b6-c60d-1da7098cf6c9"
      },
      "execution_count": null,
      "outputs": [
        {
          "output_type": "stream",
          "name": "stdout",
          "text": [
            "Authenticate gh and git with GitHub\n",
            "\n",
            "\u001b[0;1;39mUSAGE\u001b[0m\n",
            "  gh auth <command> [flags]\n",
            "\n",
            "\u001b[0;1;39mAVAILABLE COMMANDS\u001b[0m\n",
            "  login:       Log in to a GitHub account\n",
            "  logout:      Log out of a GitHub account\n",
            "  refresh:     Refresh stored authentication credentials\n",
            "  setup-git:   Setup git with GitHub CLI\n",
            "  status:      View all accounts and authentication status\n",
            "  switch:      Switch active GitHub account\n",
            "  token:       Print the authentication token gh uses for a hostname and account\n",
            "\n",
            "\u001b[0;1;39mINHERITED FLAGS\u001b[0m\n",
            "  --help   Show help for command\n",
            "\n",
            "\u001b[0;1;39mLEARN MORE\u001b[0m\n",
            "  Use `gh <command> <subcommand> --help` for more information about a command.\n",
            "  Read the manual at https://cli.github.com/manual\n",
            "\n"
          ]
        }
      ]
    },
    {
      "cell_type": "code",
      "source": [
        "!gh auth login --hostname github.com -p https --with-token < pat.txt"
      ],
      "metadata": {
        "id": "5_XDhjW-bZer"
      },
      "execution_count": null,
      "outputs": []
    },
    {
      "cell_type": "code",
      "source": [
        "!gh auth status"
      ],
      "metadata": {
        "id": "KTQmyhvsojtT",
        "outputId": "f92064db-1ffd-45ee-ed38-f24c8ef49c97",
        "colab": {
          "base_uri": "https://localhost:8080/"
        }
      },
      "execution_count": null,
      "outputs": [
        {
          "output_type": "stream",
          "name": "stdout",
          "text": [
            "\u001b[0;1;39mgithub.com\u001b[0m\n",
            "  \u001b[0;32m✓\u001b[0m Logged in to github.com account \u001b[0;1;39mryugibo\u001b[0m (/root/.config/gh/hosts.yml)\n",
            "  - Active account: \u001b[0;1;39mtrue\u001b[0m\n",
            "  - Git operations protocol: \u001b[0;1;39mhttps\u001b[0m\n",
            "  - Token: \u001b[0;1;39mgithub_pat_11AB4PWOA0DYF7lvIHfwjm_***********************************************************\u001b[0m\n"
          ]
        }
      ]
    },
    {
      "cell_type": "code",
      "source": [
        "!gh repo clone ryugibo/nvidia-ai-academy"
      ],
      "metadata": {
        "colab": {
          "base_uri": "https://localhost:8080/"
        },
        "id": "SKu2w_s8JxGp",
        "outputId": "0313821a-9acb-4f55-c4bc-7e281b2231e0"
      },
      "execution_count": null,
      "outputs": [
        {
          "output_type": "stream",
          "name": "stdout",
          "text": [
            "Cloning into 'nvidia-ai-academy'...\n",
            "remote: Enumerating objects: 201, done.\u001b[K\n",
            "remote: Counting objects: 100% (38/38), done.\u001b[K\n",
            "remote: Compressing objects: 100% (38/38), done.\u001b[K\n",
            "remote: Total 201 (delta 1), reused 0 (delta 0), pack-reused 163\u001b[K\n",
            "Receiving objects: 100% (201/201), 15.79 MiB | 17.40 MiB/s, done.\n",
            "Resolving deltas: 100% (66/66), done.\n"
          ]
        }
      ]
    },
    {
      "cell_type": "code",
      "source": [
        "%cd nvidia-ai-academy"
      ],
      "metadata": {
        "id": "vOPD7OUZLCzW"
      },
      "execution_count": null,
      "outputs": []
    },
    {
      "cell_type": "code",
      "source": [
        "!pwd\n",
        "!gh release create --help"
      ],
      "metadata": {
        "colab": {
          "base_uri": "https://localhost:8080/"
        },
        "id": "Vs9EDNrcKg14",
        "outputId": "7c15077f-90b9-4371-f021-aed406af2b0a"
      },
      "execution_count": null,
      "outputs": [
        {
          "output_type": "stream",
          "name": "stdout",
          "text": [
            "/content/nvidia-ai-academy\n",
            "Create a new GitHub Release for a repository.\n",
            "\n",
            "A list of asset files may be given to upload to the new release. To define a\n",
            "display label for an asset, append text starting with `#` after the file name.\n",
            "\n",
            "If a matching git tag does not yet exist, one will automatically get created\n",
            "from the latest state of the default branch.\n",
            "Use `--target` to point to a different branch or commit for the automatic tag creation.\n",
            "Use `--verify-tag` to abort the release if the tag doesn't already exist.\n",
            "To fetch the new tag locally after the release, do `git fetch --tags origin`.\n",
            "\n",
            "To create a release from an annotated git tag, first create one locally with\n",
            "git, push the tag to GitHub, then run this command.\n",
            "Use `--notes-from-tag` to automatically generate the release notes\n",
            "from the annotated git tag.\n",
            "\n",
            "When using automatically generated release notes, a release title will also be automatically\n",
            "generated unless a title was explicitly passed. Additional release notes can be prepended to\n",
            "automatically generated notes by using the `--notes` flag.\n",
            "\n",
            "\n",
            "\u001b[0;1;39mUSAGE\u001b[0m\n",
            "  gh release create [<tag>] [<files>...]\n",
            "\n",
            "\u001b[0;1;39mALIASES\u001b[0m\n",
            "  new\n",
            "\n",
            "\u001b[0;1;39mFLAGS\u001b[0m\n",
            "      --discussion-category string   Start a discussion in the specified category\n",
            "  -d, --draft                        Save the release as a draft instead of publishing it\n",
            "      --generate-notes               Automatically generate title and notes for the release\n",
            "      --latest                       Mark this release as \"Latest\" (default [automatic based on date and version])\n",
            "  -n, --notes string                 Release notes\n",
            "  -F, --notes-file file              Read release notes from file (use \"-\" to read from standard input)\n",
            "      --notes-from-tag               Automatically generate notes from annotated tag\n",
            "      --notes-start-tag string       Tag to use as the starting point for generating release notes\n",
            "  -p, --prerelease                   Mark the release as a prerelease\n",
            "      --target branch                Target branch or full commit SHA (default [main branch])\n",
            "  -t, --title string                 Release title\n",
            "      --verify-tag                   Abort in case the git tag doesn't already exist in the remote repository\n",
            "\n",
            "\u001b[0;1;39mINHERITED FLAGS\u001b[0m\n",
            "      --help                     Show help for command\n",
            "  -R, --repo [HOST/]OWNER/REPO   Select another repository using the [HOST/]OWNER/REPO format\n",
            "\n",
            "\u001b[0;1;39mEXAMPLES\u001b[0m\n",
            "  Interactively create a release\n",
            "  $ gh release create\n",
            "  \n",
            "  Interactively create a release from specific tag\n",
            "  $ gh release create v1.2.3\n",
            "  \n",
            "  Non-interactively create a release\n",
            "  $ gh release create v1.2.3 --notes \"bugfix release\"\n",
            "  \n",
            "  Use automatically generated release notes\n",
            "  $ gh release create v1.2.3 --generate-notes\n",
            "  \n",
            "  Use release notes from a file\n",
            "  $ gh release create v1.2.3 -F changelog.md\n",
            "  \n",
            "  Upload all tarballs in a directory as release assets\n",
            "  $ gh release create v1.2.3 ./dist/*.tgz\n",
            "  \n",
            "  Upload a release asset with a display label\n",
            "  $ gh release create v1.2.3 '/path/to/asset.zip#My display label'\n",
            "  \n",
            "  Create a release and start a discussion\n",
            "  $ gh release create v1.2.3 --discussion-category \"General\"\n",
            "\n",
            "\u001b[0;1;39mLEARN MORE\u001b[0m\n",
            "  Use `gh <command> <subcommand> --help` for more information about a command.\n",
            "  Read the manual at https://cli.github.com/manual\n",
            "\n"
          ]
        }
      ]
    },
    {
      "cell_type": "code",
      "source": [
        "!gh release create v1.2 --generate-notes ../hello.txt"
      ],
      "metadata": {
        "colab": {
          "base_uri": "https://localhost:8080/"
        },
        "id": "EpZQgB7OLBye",
        "outputId": "f4e948b1-bbe7-4bc1-d0e3-960aa18a79cc"
      },
      "execution_count": null,
      "outputs": [
        {
          "output_type": "stream",
          "name": "stdout",
          "text": [
            "\u001b[Khttps://github.com/ryugibo/nvidia-ai-academy/releases/tag/v1.2\n"
          ]
        }
      ]
    }
  ]
}